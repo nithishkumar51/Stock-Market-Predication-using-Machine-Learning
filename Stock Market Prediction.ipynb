{
 "cells": [
  {
   "cell_type": "code",
   "execution_count": 16,
   "id": "6e52bc7e",
   "metadata": {},
   "outputs": [],
   "source": [
    "import pandas as pd\n",
    "import numpy as np\n",
    "import matplotlib.pyplot as plt\n",
    "from sklearn.model_selection import train_test_split\n",
    "from sklearn.linear_model import LinearRegression\n",
    "from sklearn import metrics"
   ]
  },
  {
   "cell_type": "code",
   "execution_count": 17,
   "id": "2fee705b",
   "metadata": {},
   "outputs": [],
   "source": [
    "df = pd.read_csv('tesla.csv')"
   ]
  },
  {
   "cell_type": "code",
   "execution_count": 18,
   "id": "36c3f823",
   "metadata": {},
   "outputs": [
    {
     "data": {
      "text/html": [
       "<div>\n",
       "<style scoped>\n",
       "    .dataframe tbody tr th:only-of-type {\n",
       "        vertical-align: middle;\n",
       "    }\n",
       "\n",
       "    .dataframe tbody tr th {\n",
       "        vertical-align: top;\n",
       "    }\n",
       "\n",
       "    .dataframe thead th {\n",
       "        text-align: right;\n",
       "    }\n",
       "</style>\n",
       "<table border=\"1\" class=\"dataframe\">\n",
       "  <thead>\n",
       "    <tr style=\"text-align: right;\">\n",
       "      <th></th>\n",
       "      <th>Date</th>\n",
       "      <th>Open</th>\n",
       "      <th>High</th>\n",
       "      <th>Low</th>\n",
       "      <th>Close</th>\n",
       "      <th>Adj Close</th>\n",
       "      <th>Volume</th>\n",
       "    </tr>\n",
       "  </thead>\n",
       "  <tbody>\n",
       "    <tr>\n",
       "      <th>0</th>\n",
       "      <td>29-06-2010</td>\n",
       "      <td>19.000000</td>\n",
       "      <td>25.00</td>\n",
       "      <td>17.540001</td>\n",
       "      <td>23.889999</td>\n",
       "      <td>23.889999</td>\n",
       "      <td>18766300</td>\n",
       "    </tr>\n",
       "    <tr>\n",
       "      <th>1</th>\n",
       "      <td>30-06-2010</td>\n",
       "      <td>25.790001</td>\n",
       "      <td>30.42</td>\n",
       "      <td>23.299999</td>\n",
       "      <td>23.830000</td>\n",
       "      <td>23.830000</td>\n",
       "      <td>17187100</td>\n",
       "    </tr>\n",
       "    <tr>\n",
       "      <th>2</th>\n",
       "      <td>01-07-2010</td>\n",
       "      <td>25.000000</td>\n",
       "      <td>25.92</td>\n",
       "      <td>20.270000</td>\n",
       "      <td>21.959999</td>\n",
       "      <td>21.959999</td>\n",
       "      <td>8218800</td>\n",
       "    </tr>\n",
       "    <tr>\n",
       "      <th>3</th>\n",
       "      <td>02-07-2010</td>\n",
       "      <td>23.000000</td>\n",
       "      <td>23.10</td>\n",
       "      <td>18.709999</td>\n",
       "      <td>19.200001</td>\n",
       "      <td>19.200001</td>\n",
       "      <td>5139800</td>\n",
       "    </tr>\n",
       "    <tr>\n",
       "      <th>4</th>\n",
       "      <td>06-07-2010</td>\n",
       "      <td>20.000000</td>\n",
       "      <td>20.00</td>\n",
       "      <td>15.830000</td>\n",
       "      <td>16.110001</td>\n",
       "      <td>16.110001</td>\n",
       "      <td>6866900</td>\n",
       "    </tr>\n",
       "  </tbody>\n",
       "</table>\n",
       "</div>"
      ],
      "text/plain": [
       "         Date       Open   High        Low      Close  Adj Close    Volume\n",
       "0  29-06-2010  19.000000  25.00  17.540001  23.889999  23.889999  18766300\n",
       "1  30-06-2010  25.790001  30.42  23.299999  23.830000  23.830000  17187100\n",
       "2  01-07-2010  25.000000  25.92  20.270000  21.959999  21.959999   8218800\n",
       "3  02-07-2010  23.000000  23.10  18.709999  19.200001  19.200001   5139800\n",
       "4  06-07-2010  20.000000  20.00  15.830000  16.110001  16.110001   6866900"
      ]
     },
     "execution_count": 18,
     "metadata": {},
     "output_type": "execute_result"
    }
   ],
   "source": [
    "df.head()"
   ]
  },
  {
   "cell_type": "code",
   "execution_count": 19,
   "id": "ed9facbb",
   "metadata": {},
   "outputs": [
    {
     "name": "stdout",
     "output_type": "stream",
     "text": [
      "<class 'pandas.core.frame.DataFrame'>\n",
      "RangeIndex: 2193 entries, 0 to 2192\n",
      "Data columns (total 7 columns):\n",
      " #   Column     Non-Null Count  Dtype  \n",
      "---  ------     --------------  -----  \n",
      " 0   Date       2193 non-null   object \n",
      " 1   Open       2193 non-null   float64\n",
      " 2   High       2193 non-null   float64\n",
      " 3   Low        2193 non-null   float64\n",
      " 4   Close      2193 non-null   float64\n",
      " 5   Adj Close  2193 non-null   float64\n",
      " 6   Volume     2193 non-null   int64  \n",
      "dtypes: float64(5), int64(1), object(1)\n",
      "memory usage: 120.1+ KB\n"
     ]
    }
   ],
   "source": [
    "df.info()"
   ]
  },
  {
   "cell_type": "code",
   "execution_count": 20,
   "id": "07e1c122",
   "metadata": {},
   "outputs": [
    {
     "data": {
      "text/html": [
       "<div>\n",
       "<style scoped>\n",
       "    .dataframe tbody tr th:only-of-type {\n",
       "        vertical-align: middle;\n",
       "    }\n",
       "\n",
       "    .dataframe tbody tr th {\n",
       "        vertical-align: top;\n",
       "    }\n",
       "\n",
       "    .dataframe thead th {\n",
       "        text-align: right;\n",
       "    }\n",
       "</style>\n",
       "<table border=\"1\" class=\"dataframe\">\n",
       "  <thead>\n",
       "    <tr style=\"text-align: right;\">\n",
       "      <th></th>\n",
       "      <th>Open</th>\n",
       "      <th>High</th>\n",
       "      <th>Low</th>\n",
       "      <th>Close</th>\n",
       "      <th>Adj Close</th>\n",
       "      <th>Volume</th>\n",
       "    </tr>\n",
       "  </thead>\n",
       "  <tbody>\n",
       "    <tr>\n",
       "      <th>count</th>\n",
       "      <td>2193.000000</td>\n",
       "      <td>2193.000000</td>\n",
       "      <td>2193.000000</td>\n",
       "      <td>2193.000000</td>\n",
       "      <td>2193.000000</td>\n",
       "      <td>2.193000e+03</td>\n",
       "    </tr>\n",
       "    <tr>\n",
       "      <th>mean</th>\n",
       "      <td>175.652882</td>\n",
       "      <td>178.710262</td>\n",
       "      <td>172.412075</td>\n",
       "      <td>175.648555</td>\n",
       "      <td>175.648555</td>\n",
       "      <td>5.077449e+06</td>\n",
       "    </tr>\n",
       "    <tr>\n",
       "      <th>std</th>\n",
       "      <td>115.580903</td>\n",
       "      <td>117.370092</td>\n",
       "      <td>113.654794</td>\n",
       "      <td>115.580771</td>\n",
       "      <td>115.580771</td>\n",
       "      <td>4.545398e+06</td>\n",
       "    </tr>\n",
       "    <tr>\n",
       "      <th>min</th>\n",
       "      <td>16.139999</td>\n",
       "      <td>16.629999</td>\n",
       "      <td>14.980000</td>\n",
       "      <td>15.800000</td>\n",
       "      <td>15.800000</td>\n",
       "      <td>1.185000e+05</td>\n",
       "    </tr>\n",
       "    <tr>\n",
       "      <th>25%</th>\n",
       "      <td>33.110001</td>\n",
       "      <td>33.910000</td>\n",
       "      <td>32.459999</td>\n",
       "      <td>33.160000</td>\n",
       "      <td>33.160000</td>\n",
       "      <td>1.577800e+06</td>\n",
       "    </tr>\n",
       "    <tr>\n",
       "      <th>50%</th>\n",
       "      <td>204.990005</td>\n",
       "      <td>208.160004</td>\n",
       "      <td>201.669998</td>\n",
       "      <td>204.990005</td>\n",
       "      <td>204.990005</td>\n",
       "      <td>4.171700e+06</td>\n",
       "    </tr>\n",
       "    <tr>\n",
       "      <th>75%</th>\n",
       "      <td>262.000000</td>\n",
       "      <td>265.329987</td>\n",
       "      <td>256.209991</td>\n",
       "      <td>261.739990</td>\n",
       "      <td>261.739990</td>\n",
       "      <td>6.885600e+06</td>\n",
       "    </tr>\n",
       "    <tr>\n",
       "      <th>max</th>\n",
       "      <td>386.690002</td>\n",
       "      <td>389.609985</td>\n",
       "      <td>379.350006</td>\n",
       "      <td>385.000000</td>\n",
       "      <td>385.000000</td>\n",
       "      <td>3.716390e+07</td>\n",
       "    </tr>\n",
       "  </tbody>\n",
       "</table>\n",
       "</div>"
      ],
      "text/plain": [
       "              Open         High          Low        Close    Adj Close  \\\n",
       "count  2193.000000  2193.000000  2193.000000  2193.000000  2193.000000   \n",
       "mean    175.652882   178.710262   172.412075   175.648555   175.648555   \n",
       "std     115.580903   117.370092   113.654794   115.580771   115.580771   \n",
       "min      16.139999    16.629999    14.980000    15.800000    15.800000   \n",
       "25%      33.110001    33.910000    32.459999    33.160000    33.160000   \n",
       "50%     204.990005   208.160004   201.669998   204.990005   204.990005   \n",
       "75%     262.000000   265.329987   256.209991   261.739990   261.739990   \n",
       "max     386.690002   389.609985   379.350006   385.000000   385.000000   \n",
       "\n",
       "             Volume  \n",
       "count  2.193000e+03  \n",
       "mean   5.077449e+06  \n",
       "std    4.545398e+06  \n",
       "min    1.185000e+05  \n",
       "25%    1.577800e+06  \n",
       "50%    4.171700e+06  \n",
       "75%    6.885600e+06  \n",
       "max    3.716390e+07  "
      ]
     },
     "execution_count": 20,
     "metadata": {},
     "output_type": "execute_result"
    }
   ],
   "source": [
    "df.describe()"
   ]
  },
  {
   "cell_type": "code",
   "execution_count": 21,
   "id": "4ec185df",
   "metadata": {},
   "outputs": [],
   "source": [
    "x = df[['High', 'Low', 'Open', 'Volume']].values\n",
    "y = df['Close'].values"
   ]
  },
  {
   "cell_type": "code",
   "execution_count": 22,
   "id": "1450e261",
   "metadata": {},
   "outputs": [],
   "source": [
    "# Linear Regression\n",
    "x_train, x_test, y_train, y_test = train_test_split(x,y, test_size=0.2, random_state=1)"
   ]
  },
  {
   "cell_type": "code",
   "execution_count": 23,
   "id": "2cae7c13",
   "metadata": {},
   "outputs": [],
   "source": [
    "regressor = LinearRegression()"
   ]
  },
  {
   "cell_type": "code",
   "execution_count": 24,
   "id": "4a1bf8e1",
   "metadata": {},
   "outputs": [
    {
     "data": {
      "text/plain": [
       "LinearRegression()"
      ]
     },
     "execution_count": 24,
     "metadata": {},
     "output_type": "execute_result"
    }
   ],
   "source": [
    "regressor.fit(x_train, y_train)"
   ]
  },
  {
   "cell_type": "code",
   "execution_count": 25,
   "id": "7ee39b37",
   "metadata": {},
   "outputs": [
    {
     "name": "stdout",
     "output_type": "stream",
     "text": [
      "[ 8.67451472e-01  7.26247207e-01 -5.94779343e-01 -2.02861685e-08]\n"
     ]
    }
   ],
   "source": [
    "print(regressor.coef_)"
   ]
  },
  {
   "cell_type": "code",
   "execution_count": 26,
   "id": "a8b01a18",
   "metadata": {},
   "outputs": [
    {
     "name": "stdout",
     "output_type": "stream",
     "text": [
      "-0.02688118309231413\n"
     ]
    }
   ],
   "source": [
    "print(regressor.intercept_)"
   ]
  },
  {
   "cell_type": "code",
   "execution_count": 27,
   "id": "211d05d5",
   "metadata": {},
   "outputs": [],
   "source": [
    "predicted = regressor.predict(x_test)"
   ]
  },
  {
   "cell_type": "code",
   "execution_count": 28,
   "id": "41dc6acd",
   "metadata": {},
   "outputs": [
    {
     "name": "stdout",
     "output_type": "stream",
     "text": [
      "[329.40212937  24.35778234 188.01769493 242.35382501  37.2301427\n",
      "  28.40561367 213.10989712 208.58323546 218.35557175 332.41763636\n",
      " 284.1194343  255.29677469 251.91578314 248.36401544  31.0063068\n",
      " 123.41065767  28.54267338  30.97871284  23.95471092 345.31870916\n",
      " 330.98942616  29.47271686 237.43510165 151.89990336  25.87629306\n",
      " 267.68709964  29.95601462 252.33727719  35.42617458 170.83027379\n",
      "  21.59707889  29.70628698  34.7983908  122.91111244  28.32775607\n",
      "  29.44207743 157.51622965 199.5590655   28.73233824 315.25997277\n",
      " 248.63362038 233.23764647  20.72041083 256.1667647  307.58553144\n",
      " 361.51459392 287.04684998 263.65011633 111.71047955  28.36402329\n",
      " 206.68765568 243.91103319 201.78242907 353.47014801  33.88980975\n",
      " 200.66763727 341.57957775 187.05753549 367.95806092 353.37586119\n",
      " 279.98625777  35.59156193 191.13179129  24.66536375  90.28249539\n",
      "  30.21594999 345.84570165 205.52839059 196.67238763 221.70538538\n",
      " 304.42044404 262.42516635 204.56573631  20.3203034  326.45848344\n",
      " 248.82383665 238.16824911 213.4568939   25.30475948 119.56073684\n",
      "  30.05015008  30.57101387 255.40604368 224.95079398  89.42573448\n",
      " 119.01093856 325.01325344 330.51453553 212.38689789 166.49321177\n",
      " 217.05072776 169.57189101 186.96354242  44.97384543  34.64587969\n",
      " 353.48591225 318.27177492 295.72568345 228.41240362  37.59348001\n",
      " 202.92237334  25.67616803  27.47339988  31.18476872  27.32977359\n",
      " 215.91654486 247.31341023 311.31052964 259.59187026  27.32750787\n",
      "  28.33250742 352.82609936  28.39354466 254.86948391 300.41266604\n",
      " 202.57670065 298.29663346  31.10491584 229.66766868 308.17476482\n",
      "  33.04963768 221.46908756 250.88323205 320.26597543 342.44622902\n",
      "  27.47447197  21.35350322 321.1903457  202.82270782 214.79958241\n",
      " 330.66784321  31.85326429 203.87950247 193.39070317 172.28589118\n",
      " 278.23956887 249.57624463 302.00899681 185.11247247 202.17760984\n",
      "  33.40030556 336.47158778 233.11647653  29.22349298 205.24886492\n",
      " 225.0706521  312.05542575 339.33728251 256.53199229 218.72636915\n",
      "  23.10363292 330.21802846  34.77115597 206.22436173 214.61302117\n",
      "  33.51803639  20.53472059 117.48148003 215.83479157 123.77855959\n",
      " 213.32111477 348.87602724 237.13996779 232.35763038 300.84118096\n",
      "  28.68302955  26.58228677 195.65189875 346.17784611 245.73320393\n",
      " 225.63485053  22.12526124  20.37864516  19.37776442  29.37756805\n",
      "  29.01574323 220.92740373 277.03447773 223.30456919 297.39139947\n",
      " 264.39108199 251.10707257  28.45995998  31.41764092 219.60178144\n",
      " 167.87413275  26.16102569 262.62924218 187.36817695 295.37414721\n",
      " 356.03691694  28.60487504 138.4632131  334.57061907  21.03223974\n",
      " 242.23505322 366.45653257 247.54523557  35.01376396  37.96636639\n",
      "  16.72236485  34.49757925  53.99852153 255.7669764   28.4843986\n",
      "  33.16728337 313.52703485 385.91925157 216.01236035  27.51934545\n",
      "  44.60672307 226.90023271 271.62763341 223.92913604 306.03096012\n",
      " 123.45217817 383.56591003  33.28140978 254.44048087  33.05794282\n",
      " 315.58093804 301.35582028  27.86171965 146.07575993 221.89618869\n",
      " 223.96456922 311.07232586 358.15834856 330.82224847  23.55817162\n",
      " 323.32488238 318.5868721  118.62915955 169.62454984  34.93605183\n",
      " 221.92811741  34.36087623  39.18527665 178.85194913 351.08026636\n",
      " 233.01010392 276.44651658 177.09526052 216.18162249 332.39942148\n",
      " 212.60647898 307.87683581 354.61769805  22.88225242 196.70185227\n",
      " 216.34757659 228.38171409 223.22839773 219.10007115  25.00131632\n",
      "  22.89835489  42.03274808  24.56502183 295.16410809 148.11419234\n",
      " 264.99886884  43.85254761 223.3470102  201.01263524 202.65724487\n",
      "  28.04240451 312.35995004 196.75912908 239.94291506 140.8341862\n",
      " 204.80678791 354.94474142 305.79489254  30.13056538 222.36619668\n",
      " 238.31582911 342.11784651 240.4368463  254.98039354  27.68642028\n",
      " 323.4676152  189.43421044 210.36986636  23.89304481 342.69942044\n",
      "  37.26324458  19.81514059 248.7838186  156.7239124   31.98594072\n",
      " 147.61495786  29.22012298 218.63746043 325.93693811 247.53362216\n",
      " 190.41502647  28.52334033 197.83114633 229.66925645 180.72961696\n",
      "  45.53902701  17.27319934 235.41534381  32.61762263  20.81432696\n",
      " 234.51635917 265.39254393 227.96730775  22.17180517 256.15890705\n",
      "  34.08273955 299.20255673  23.77778619 209.0217911  237.60062075\n",
      " 183.32184077  30.4598651  354.43321767 261.58364865  31.1640703\n",
      " 214.40877712 261.885559   102.67979333 122.24243734 227.6801661\n",
      " 270.31088448 211.45408047  34.86720801 298.15756918  25.98930654\n",
      " 227.13676757 210.66975361 347.89013475 205.75444156  34.11966816\n",
      " 191.65250449 225.89192015  30.7692692   27.23931625  37.73782437\n",
      " 227.61556385 211.38291427  34.01257343 301.61974103  30.67789954\n",
      " 227.23247506  34.39270006 232.60044194  42.93324914 234.2933794\n",
      " 239.54786007 204.13811018  39.20136439 309.32647619 206.43389901\n",
      " 204.22264079 345.45942296 258.18792775 252.9563466  308.44754734\n",
      " 328.39693275 251.25624874 261.34341553 188.55121867 357.03811086\n",
      " 305.38158731  34.01857003  29.78358927 257.02862436 302.46192239\n",
      "  29.0368413  291.01449154 243.10582671  26.91681103 354.45329579\n",
      "  27.36222455 220.77666183  34.64017748 289.57365483 209.65364744\n",
      " 204.46222704 261.82923055 152.97675885 260.39945995  27.3294802\n",
      " 256.6241687   28.91057376 136.75363318 374.3520361  249.36195198\n",
      " 244.96163935 294.09105823  35.79615953 170.77667124  31.62760817\n",
      " 209.83635983  45.26940466 241.93781789 141.53856149 217.6511582\n",
      " 136.28600243  20.91548589 306.66358249  32.74403273 363.9296919\n",
      " 279.20018013  28.28721558  27.45855217  23.56300697  24.79802449\n",
      " 264.26217062 357.52283816 105.71143303  28.00261218 326.16285204\n",
      " 216.29582459 178.55237175  56.06481823 155.19778025 316.21181719\n",
      "  26.11021906  28.82335986 210.2057969   28.33697811 321.98861128\n",
      "  27.27729418  25.02844708 282.24940531 213.63086335 248.04964572\n",
      " 128.87138755 228.50156965 325.86073127  28.99922288 221.65701559\n",
      "  26.59180763  95.37259096  18.89431366  24.03938719]\n"
     ]
    }
   ],
   "source": [
    "print(predicted)"
   ]
  },
  {
   "cell_type": "code",
   "execution_count": 29,
   "id": "890f5174",
   "metadata": {},
   "outputs": [],
   "source": [
    "df2 = pd.DataFrame({'Actual': y_test.flatten(), 'Predicted' : predicted.flatten()})"
   ]
  },
  {
   "cell_type": "code",
   "execution_count": 30,
   "id": "6d00e325",
   "metadata": {},
   "outputs": [
    {
     "data": {
      "text/html": [
       "<div>\n",
       "<style scoped>\n",
       "    .dataframe tbody tr th:only-of-type {\n",
       "        vertical-align: middle;\n",
       "    }\n",
       "\n",
       "    .dataframe tbody tr th {\n",
       "        vertical-align: top;\n",
       "    }\n",
       "\n",
       "    .dataframe thead th {\n",
       "        text-align: right;\n",
       "    }\n",
       "</style>\n",
       "<table border=\"1\" class=\"dataframe\">\n",
       "  <thead>\n",
       "    <tr style=\"text-align: right;\">\n",
       "      <th></th>\n",
       "      <th>Actual</th>\n",
       "      <th>Predicted</th>\n",
       "    </tr>\n",
       "  </thead>\n",
       "  <tbody>\n",
       "    <tr>\n",
       "      <th>0</th>\n",
       "      <td>332.799988</td>\n",
       "      <td>329.402129</td>\n",
       "    </tr>\n",
       "    <tr>\n",
       "      <th>1</th>\n",
       "      <td>24.340000</td>\n",
       "      <td>24.357782</td>\n",
       "    </tr>\n",
       "    <tr>\n",
       "      <th>2</th>\n",
       "      <td>193.910004</td>\n",
       "      <td>188.017695</td>\n",
       "    </tr>\n",
       "    <tr>\n",
       "      <th>3</th>\n",
       "      <td>240.009995</td>\n",
       "      <td>242.353825</td>\n",
       "    </tr>\n",
       "    <tr>\n",
       "      <th>4</th>\n",
       "      <td>37.400002</td>\n",
       "      <td>37.230143</td>\n",
       "    </tr>\n",
       "    <tr>\n",
       "      <th>5</th>\n",
       "      <td>28.370001</td>\n",
       "      <td>28.405614</td>\n",
       "    </tr>\n",
       "    <tr>\n",
       "      <th>6</th>\n",
       "      <td>211.169998</td>\n",
       "      <td>213.109897</td>\n",
       "    </tr>\n",
       "    <tr>\n",
       "      <th>7</th>\n",
       "      <td>210.240005</td>\n",
       "      <td>208.583235</td>\n",
       "    </tr>\n",
       "    <tr>\n",
       "      <th>8</th>\n",
       "      <td>220.679993</td>\n",
       "      <td>218.355572</td>\n",
       "    </tr>\n",
       "    <tr>\n",
       "      <th>9</th>\n",
       "      <td>334.459991</td>\n",
       "      <td>332.417636</td>\n",
       "    </tr>\n",
       "    <tr>\n",
       "      <th>10</th>\n",
       "      <td>279.179993</td>\n",
       "      <td>284.119434</td>\n",
       "    </tr>\n",
       "    <tr>\n",
       "      <th>11</th>\n",
       "      <td>253.000000</td>\n",
       "      <td>255.296775</td>\n",
       "    </tr>\n",
       "    <tr>\n",
       "      <th>12</th>\n",
       "      <td>253.119995</td>\n",
       "      <td>251.915783</td>\n",
       "    </tr>\n",
       "    <tr>\n",
       "      <th>13</th>\n",
       "      <td>249.449997</td>\n",
       "      <td>248.364015</td>\n",
       "    </tr>\n",
       "    <tr>\n",
       "      <th>14</th>\n",
       "      <td>31.600000</td>\n",
       "      <td>31.006307</td>\n",
       "    </tr>\n",
       "    <tr>\n",
       "      <th>15</th>\n",
       "      <td>121.580002</td>\n",
       "      <td>123.410658</td>\n",
       "    </tr>\n",
       "    <tr>\n",
       "      <th>16</th>\n",
       "      <td>28.430000</td>\n",
       "      <td>28.542673</td>\n",
       "    </tr>\n",
       "    <tr>\n",
       "      <th>17</th>\n",
       "      <td>31.360001</td>\n",
       "      <td>30.978713</td>\n",
       "    </tr>\n",
       "    <tr>\n",
       "      <th>18</th>\n",
       "      <td>23.940001</td>\n",
       "      <td>23.954711</td>\n",
       "    </tr>\n",
       "    <tr>\n",
       "      <th>19</th>\n",
       "      <td>342.950012</td>\n",
       "      <td>345.318709</td>\n",
       "    </tr>\n",
       "    <tr>\n",
       "      <th>20</th>\n",
       "      <td>331.660004</td>\n",
       "      <td>330.989426</td>\n",
       "    </tr>\n",
       "    <tr>\n",
       "      <th>21</th>\n",
       "      <td>29.299999</td>\n",
       "      <td>29.472717</td>\n",
       "    </tr>\n",
       "    <tr>\n",
       "      <th>22</th>\n",
       "      <td>235.600006</td>\n",
       "      <td>237.435102</td>\n",
       "    </tr>\n",
       "    <tr>\n",
       "      <th>23</th>\n",
       "      <td>151.119995</td>\n",
       "      <td>151.899903</td>\n",
       "    </tr>\n",
       "    <tr>\n",
       "      <th>24</th>\n",
       "      <td>26.410000</td>\n",
       "      <td>25.876293</td>\n",
       "    </tr>\n",
       "  </tbody>\n",
       "</table>\n",
       "</div>"
      ],
      "text/plain": [
       "        Actual   Predicted\n",
       "0   332.799988  329.402129\n",
       "1    24.340000   24.357782\n",
       "2   193.910004  188.017695\n",
       "3   240.009995  242.353825\n",
       "4    37.400002   37.230143\n",
       "5    28.370001   28.405614\n",
       "6   211.169998  213.109897\n",
       "7   210.240005  208.583235\n",
       "8   220.679993  218.355572\n",
       "9   334.459991  332.417636\n",
       "10  279.179993  284.119434\n",
       "11  253.000000  255.296775\n",
       "12  253.119995  251.915783\n",
       "13  249.449997  248.364015\n",
       "14   31.600000   31.006307\n",
       "15  121.580002  123.410658\n",
       "16   28.430000   28.542673\n",
       "17   31.360001   30.978713\n",
       "18   23.940001   23.954711\n",
       "19  342.950012  345.318709\n",
       "20  331.660004  330.989426\n",
       "21   29.299999   29.472717\n",
       "22  235.600006  237.435102\n",
       "23  151.119995  151.899903\n",
       "24   26.410000   25.876293"
      ]
     },
     "execution_count": 30,
     "metadata": {},
     "output_type": "execute_result"
    }
   ],
   "source": [
    "df2.head(25)"
   ]
  },
  {
   "cell_type": "code",
   "execution_count": 31,
   "id": "30259282",
   "metadata": {},
   "outputs": [
    {
     "name": "stdout",
     "output_type": "stream",
     "text": [
      "Mean Absolute Error: 1.3782280626252839\n",
      "Mean Squared Error: 3.9090508840931393\n",
      "Root Mean Squared Error: 1.9771319844899429\n"
     ]
    }
   ],
   "source": [
    "import math\n",
    "print('Mean Absolute Error:', metrics.mean_absolute_error(y_test,predicted))\n",
    "print('Mean Squared Error:', metrics.mean_squared_error(y_test,predicted))\n",
    "print('Root Mean Squared Error:', math.sqrt(metrics.mean_squared_error(y_test,predicted)))"
   ]
  },
  {
   "cell_type": "code",
   "execution_count": 32,
   "id": "5e5958db",
   "metadata": {},
   "outputs": [],
   "source": [
    "graph = df2.head(20)"
   ]
  },
  {
   "cell_type": "code",
   "execution_count": 33,
   "id": "9f195cc8",
   "metadata": {},
   "outputs": [
    {
     "data": {
      "text/plain": [
       "<AxesSubplot:>"
      ]
     },
     "execution_count": 33,
     "metadata": {},
     "output_type": "execute_result"
    },
    {
     "data": {
      "image/png": "[encoded data removed]",
      "text/plain": [
       "<Figure size 432x288 with 1 Axes>"
      ]
     },
     "metadata": {
      "needs_background": "light"
     },
     "output_type": "display_data"
    }
   ],
   "source": [
    "graph.plot(kind='bar')"
   ]
  }
 ],
 "metadata": {
  "kernelspec": {
   "display_name": "Python 3 (ipykernel)",
   "language": "python",
   "name": "python3"
  },
  "language_info": {
   "codemirror_mode": {
    "name": "ipython",
    "version": 3
   },
   "file_extension": ".py",
   "mimetype": "text/x-python",
   "name": "python",
   "nbconvert_exporter": "python",
   "pygments_lexer": "ipython3",
   "version": "3.10.4"
  }
 },
 "nbformat": 4,
 "nbformat_minor": 5
}
